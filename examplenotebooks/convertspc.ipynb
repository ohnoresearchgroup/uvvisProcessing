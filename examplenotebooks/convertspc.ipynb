{
 "cells": [
  {
   "cell_type": "markdown",
   "id": "e4c43232-3ffe-4bc0-95bb-a7d57d797992",
   "metadata": {},
   "source": [
    "**Imports**"
   ]
  },
  {
   "cell_type": "code",
   "execution_count": 6,
   "id": "dbf3a3b0-7e37-4b47-991e-c7b3dc4b092e",
   "metadata": {},
   "outputs": [],
   "source": [
    "import sys\n",
    "#change this to directory with convertspc.py\n",
    "sys.path.insert(1, \"C:\\\\Users\\\\peo0005\\\\OneDrive - Auburn University\\\\Documents\\\\GitHub\\\\uvvisProcessing\")\n",
    "import convertspc"
   ]
  },
  {
   "cell_type": "markdown",
   "id": "039d7094-a833-492d-bf06-813b146a69bd",
   "metadata": {},
   "source": [
    "**Converting an individual file:**"
   ]
  },
  {
   "cell_type": "code",
   "execution_count": 8,
   "id": "c0c2e923-8827-499b-8866-94fd7b24d0f1",
   "metadata": {},
   "outputs": [],
   "source": [
    "#path to folder where data file is\n",
    "path = \"C:\\\\Users\\\\peo0005\\\\OneDrive - Auburn University\\\\Desktop\\\\\"\n",
    "#name of datafile\n",
    "name = \"uvvis.spc\"\n",
    "fullname = path + name\n",
    "\n",
    "#convert to create file with added suffix -DataSet1.csv\n",
    "convertspc.individualfile(fullname)"
   ]
  },
  {
   "cell_type": "markdown",
   "id": "88f28798-1bea-434f-93d7-a694d23bcba7",
   "metadata": {},
   "source": [
    "**Converting an entire folder:**"
   ]
  },
  {
   "cell_type": "code",
   "execution_count": 4,
   "id": "f78f0d25-26ed-4684-b8bc-66aa4b3675ed",
   "metadata": {},
   "outputs": [],
   "source": [
    "folder = \"C:\\\\Users\\\\peo0005\\\\OneDrive - Auburn University\\\\Desktop\\\\test1\"\n",
    "\n",
    "#convert entire folder\n",
    "convertspc.folder(folder)"
   ]
  }
 ],
 "metadata": {
  "kernelspec": {
   "display_name": "Python 3 (ipykernel)",
   "language": "python",
   "name": "python3"
  },
  "language_info": {
   "codemirror_mode": {
    "name": "ipython",
    "version": 3
   },
   "file_extension": ".py",
   "mimetype": "text/x-python",
   "name": "python",
   "nbconvert_exporter": "python",
   "pygments_lexer": "ipython3",
   "version": "3.11.7"
  }
 },
 "nbformat": 4,
 "nbformat_minor": 5
}
