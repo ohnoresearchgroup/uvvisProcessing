{
 "cells": [
  {
   "cell_type": "markdown",
   "id": "e4c43232-3ffe-4bc0-95bb-a7d57d797992",
   "metadata": {},
   "source": [
    "**Imports**"
   ]
  },
  {
   "cell_type": "code",
   "execution_count": 6,
   "id": "dbf3a3b0-7e37-4b47-991e-c7b3dc4b092e",
   "metadata": {},
   "outputs": [],
   "source": [
    "import sys\n",
    "#change this to directory with convertspc.py\n",
    "sys.path.insert(1, \"C:\\\\Users\\\\USER\\\\Documents\\\\GitHub\\\\uvvisprocessing\")\n",
    "\n",
    "import convertspc"
   ]
  },
  {
   "cell_type": "markdown",
   "id": "039d7094-a833-492d-bf06-813b146a69bd",
   "metadata": {},
   "source": [
    "**Converting an individual file:**"
   ]
  },
  {
   "cell_type": "code",
   "execution_count": 8,
   "id": "c0c2e923-8827-499b-8866-94fd7b24d0f1",
   "metadata": {},
   "outputs": [],
   "source": [
    "#path to folder where data file is\n",
    "#path = \"C:\\\\Users\\\\peo0005\\\\OneDrive - Auburn University\\\\Desktop\\\\\"\n",
    "\"C:\\\\Users\\\\USER\\\\Desktop\\\\Sheba1\\\\CV_pH\"\n",
    "\n",
    "#name of datafile\n",
    "#name = \"uvvis.spc\"\n",
    "fullname = path + name\n",
    "\n",
    "#convert to create file with added suffix -DataSet1.csv\n",
    "convertspc.individualfile(fullname)"
   ]
  },
  {
   "cell_type": "markdown",
   "id": "88f28798-1bea-434f-93d7-a694d23bcba7",
   "metadata": {},
   "source": [
    "**Converting an entire folder:**"
   ]
  },
  {
   "cell_type": "code",
   "execution_count": 1,
   "id": "f78f0d25-26ed-4684-b8bc-66aa4b3675ed",
   "metadata": {},
   "outputs": [
    {
     "ename": "NameError",
     "evalue": "name 'convertspc' is not defined",
     "output_type": "error",
     "traceback": [
      "\u001b[1;31m---------------------------------------------------------------------------\u001b[0m",
      "\u001b[1;31mNameError\u001b[0m                                 Traceback (most recent call last)",
      "Cell \u001b[1;32mIn[1], line 3\u001b[0m\n\u001b[0;32m      1\u001b[0m folder \u001b[38;5;241m=\u001b[39m \u001b[38;5;124m\"\u001b[39m\u001b[38;5;124mC:\u001b[39m\u001b[38;5;130;01m\\\\\u001b[39;00m\u001b[38;5;124mUsers\u001b[39m\u001b[38;5;130;01m\\\\\u001b[39;00m\u001b[38;5;124mUSER\u001b[39m\u001b[38;5;130;01m\\\\\u001b[39;00m\u001b[38;5;124mDesktop\u001b[39m\u001b[38;5;130;01m\\\\\u001b[39;00m\u001b[38;5;124mSheba1\u001b[39m\u001b[38;5;130;01m\\\\\u001b[39;00m\u001b[38;5;124mCV_pH\u001b[39m\u001b[38;5;124m\"\u001b[39m\n\u001b[0;32m      2\u001b[0m \u001b[38;5;66;03m#convert entire folder\u001b[39;00m\n\u001b[1;32m----> 3\u001b[0m convertspc\u001b[38;5;241m.\u001b[39mfolder(folder)\n",
      "\u001b[1;31mNameError\u001b[0m: name 'convertspc' is not defined"
     ]
    }
   ],
   "source": [
    "folder = \"C:\\\\Users\\\\USER\\\\Desktop\\\\Sheba1\\\\CV_pH\"\n",
    "#convert entire folder\n",
    "convertspc.folder(folder)"
   ]
  },
  {
   "cell_type": "code",
   "execution_count": null,
   "id": "6cefd5ce-f518-457c-ae1e-c2db7662bfdd",
   "metadata": {},
   "outputs": [],
   "source": []
  }
 ],
 "metadata": {
  "kernelspec": {
   "display_name": "Python 3 (ipykernel)",
   "language": "python",
   "name": "python3"
  },
  "language_info": {
   "codemirror_mode": {
    "name": "ipython",
    "version": 3
   },
   "file_extension": ".py",
   "mimetype": "text/x-python",
   "name": "python",
   "nbconvert_exporter": "python",
   "pygments_lexer": "ipython3",
   "version": "3.11.7"
  }
 },
 "nbformat": 4,
 "nbformat_minor": 5
}
